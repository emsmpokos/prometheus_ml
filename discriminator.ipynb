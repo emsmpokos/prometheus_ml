{
 "cells": [
  {
   "cell_type": "code",
   "execution_count": 1,
   "id": "af9ac00e",
   "metadata": {},
   "outputs": [
    {
     "name": "stdout",
     "output_type": "stream",
     "text": [
      "WARNING:tensorflow:From C:\\Users\\admin\\anaconda3\\Lib\\site-packages\\keras\\src\\losses.py:2976: The name tf.losses.sparse_softmax_cross_entropy is deprecated. Please use tf.compat.v1.losses.sparse_softmax_cross_entropy instead.\n",
      "\n"
     ]
    }
   ],
   "source": [
    "import pandas as pd\n",
    "import re\n",
    "import nltk\n",
    "from tensorflow.keras.preprocessing.text import Tokenizer\n",
    "from tensorflow.keras.preprocessing.sequence import pad_sequences\n",
    "from sklearn.model_selection import train_test_split\n",
    "import numpy as np\n",
    "from tensorflow.keras.models import Sequential, Model\n",
    "from tensorflow.keras.layers import Dense, Embedding, LSTM, Dropout, LeakyReLU, Input, Flatten, Reshape\n",
    "from tensorflow.keras.optimizers import Adam\n",
    "import tensorflow as tf\n",
    "from nltk.corpus import stopwords\n",
    "import pickle\n",
    "from keras.models import load_model"
   ]
  },
  {
   "cell_type": "markdown",
   "id": "1c4a844a",
   "metadata": {},
   "source": [
    "## Training the discriminator"
   ]
  },
  {
   "cell_type": "code",
   "execution_count": 2,
   "id": "f045204d",
   "metadata": {},
   "outputs": [],
   "source": [
    "def preprocess_text(text):\n",
    "    # Convert to lowercase\n",
    "    text = text.lower()\n",
    "    # Remove punctuation and non-alphabetic characters\n",
    "    text = re.sub(r'[^a-z\\s]', '', text)\n",
    "    # Remove stop words\n",
    "    stop_words = set(nltk.corpus.stopwords.words('english'))\n",
    "    text = ' '.join([word for word in text.split() if word not in stop_words])\n",
    "    return text"
   ]
  },
  {
   "cell_type": "code",
   "execution_count": 3,
   "id": "ee793092",
   "metadata": {
    "scrolled": false
   },
   "outputs": [
    {
     "name": "stdout",
     "output_type": "stream",
     "text": [
      "WARNING:tensorflow:From C:\\Users\\admin\\anaconda3\\Lib\\site-packages\\keras\\src\\backend.py:873: The name tf.get_default_graph is deprecated. Please use tf.compat.v1.get_default_graph instead.\n",
      "\n",
      "WARNING:tensorflow:From C:\\Users\\admin\\anaconda3\\Lib\\site-packages\\keras\\src\\optimizers\\__init__.py:309: The name tf.train.Optimizer is deprecated. Please use tf.compat.v1.train.Optimizer instead.\n",
      "\n",
      "Epoch 1/5\n",
      "WARNING:tensorflow:From C:\\Users\\admin\\anaconda3\\Lib\\site-packages\\keras\\src\\utils\\tf_utils.py:492: The name tf.ragged.RaggedTensorValue is deprecated. Please use tf.compat.v1.ragged.RaggedTensorValue instead.\n",
      "\n",
      "WARNING:tensorflow:From C:\\Users\\admin\\anaconda3\\Lib\\site-packages\\keras\\src\\engine\\base_layer_utils.py:384: The name tf.executing_eagerly_outside_functions is deprecated. Please use tf.compat.v1.executing_eagerly_outside_functions instead.\n",
      "\n",
      "124/124 [==============================] - 240s 2s/step - loss: 0.2146 - accuracy: 0.9636 - val_loss: 0.0215 - val_accuracy: 0.9929\n",
      "Epoch 2/5\n",
      "124/124 [==============================] - 253s 2s/step - loss: 0.0078 - accuracy: 0.9981 - val_loss: 0.0132 - val_accuracy: 0.9975\n",
      "Epoch 3/5\n",
      "124/124 [==============================] - 279s 2s/step - loss: 0.0020 - accuracy: 0.9999 - val_loss: 0.0221 - val_accuracy: 0.9924\n",
      "Epoch 4/5\n",
      "124/124 [==============================] - 298s 2s/step - loss: 4.5773e-04 - accuracy: 1.0000 - val_loss: 0.0171 - val_accuracy: 0.9939\n",
      "Epoch 5/5\n",
      "124/124 [==============================] - 303s 2s/step - loss: 2.0449e-04 - accuracy: 1.0000 - val_loss: 0.0174 - val_accuracy: 0.9939\n",
      "62/62 [==============================] - 6s 91ms/step - loss: 0.0174 - accuracy: 0.9939\n",
      "Validation Accuracy: 0.9939393997192383\n"
     ]
    }
   ],
   "source": [
    "# Load the dataset\n",
    "df = pd.read_csv('fake_and_real_news.csv')  # Assuming the dataset is in a CSV file\n",
    "# The dataset should have at least two columns: 'text' and 'label'\n",
    "\n",
    "\n",
    "df['Text'] = df['Text'].apply(preprocess_text)\n",
    "\n",
    "# Tokenize the text\n",
    "tokenizer = Tokenizer(num_words=5000)\n",
    "tokenizer.fit_on_texts(df['Text'])\n",
    "\n",
    "\n",
    "# Save the tokenizer\n",
    "with open('tokenizer.pickle', 'wb') as handle:\n",
    "    pickle.dump(tokenizer, handle, protocol=pickle.HIGHEST_PROTOCOL)\n",
    "\n",
    "sequences = tokenizer.texts_to_sequences(df['Text'])\n",
    "\n",
    "\n",
    "\n",
    "\n",
    "X = pad_sequences(sequences, maxlen=500)\n",
    "\n",
    "# Labels (assuming 'label' column has 0 for fake news and 1 for real news)\n",
    "df['label'] = df['label'].map({'Fake': 0, 'Real': 1})\n",
    "y = df['label'].values\n",
    "\n",
    "# Splitting the dataset into training and validation sets\n",
    "X_train, X_val, y_train, y_val = train_test_split(X, y, test_size=0.2, random_state=42)\n",
    "\n",
    "# Creating the discriminator model\n",
    "discriminator = Sequential()\n",
    "discriminator.add(Embedding(input_dim=5000, output_dim=128, input_length=500))\n",
    "discriminator.add(LSTM(128, dropout=0.2, recurrent_dropout=0.2))\n",
    "discriminator.add(Dense(1, activation='sigmoid'))\n",
    "discriminator.compile(loss='binary_crossentropy', optimizer='adam', metrics=['accuracy'])\n",
    "\n",
    "model_ckpt = tf.keras.callbacks.ModelCheckpoint(\n",
    "    \"my_news_model.keras\", monitor=\"val_accuracy\", save_best_only=True)\n",
    "\n",
    "# Training the discriminator\n",
    "discriminator.fit(X_train, y_train, epochs=5, batch_size=64, validation_data=(X_val, y_val), callbacks=[model_ckpt])\n",
    "\n",
    "# Evaluate the model\n",
    "loss, accuracy = discriminator.evaluate(X_val, y_val)\n",
    "print(f'Validation Accuracy: {accuracy}')"
   ]
  },
  {
   "cell_type": "code",
   "execution_count": 7,
   "id": "7ebcaf59",
   "metadata": {},
   "outputs": [
    {
     "name": "stdout",
     "output_type": "stream",
     "text": [
      "62/62 [==============================] - 7s 107ms/step\n"
     ]
    },
    {
     "data": {
      "image/png": "[encoded data removed]",
      "text/plain": [
       "<Figure size 1000x700 with 2 Axes>"
      ]
     },
     "metadata": {},
     "output_type": "display_data"
    },
    {
     "name": "stdout",
     "output_type": "stream",
     "text": [
      "              precision    recall  f1-score   support\n",
      "\n",
      "        Fake       1.00      0.99      0.99       973\n",
      "        Real       0.99      1.00      0.99      1007\n",
      "\n",
      "    accuracy                           0.99      1980\n",
      "   macro avg       0.99      0.99      0.99      1980\n",
      "weighted avg       0.99      0.99      0.99      1980\n",
      "\n"
     ]
    }
   ],
   "source": [
    "from sklearn.metrics import confusion_matrix, classification_report\n",
    "import matplotlib.pyplot as plt\n",
    "import seaborn as sns\n",
    "\n",
    "# Get predictions\n",
    "y_val_pred = discriminator.predict(X_val)\n",
    "y_val_pred_classes = (y_val_pred > 0.5).astype(\"int32\")\n",
    "\n",
    "# Confusion Matrix\n",
    "cm = confusion_matrix(y_val, y_val_pred_classes)\n",
    "plt.figure(figsize=(10, 7))\n",
    "sns.heatmap(cm, annot=True, fmt=\"d\", cmap=\"Blues\")\n",
    "plt.xlabel('Predicted')\n",
    "plt.ylabel('Actual')\n",
    "plt.title('Confusion Matrix')\n",
    "plt.show()\n",
    "\n",
    "# Classification Report\n",
    "cr = classification_report(y_val, y_val_pred_classes, target_names=['Fake', 'Real'])\n",
    "print(cr)"
   ]
  },
  {
   "cell_type": "markdown",
   "id": "23f526d3",
   "metadata": {},
   "source": [
    "## Classifying on the gpt2 dataset"
   ]
  },
  {
   "cell_type": "code",
   "execution_count": 4,
   "id": "1e73ef85",
   "metadata": {},
   "outputs": [
    {
     "name": "stdout",
     "output_type": "stream",
     "text": [
      "1/1 [==============================] - 1s 569ms/step\n",
      "                                      Generated Text predicted_label\n",
      "0  breaking news attack mosque uk working police ...            Fake\n",
      "1  latest public speech trump said least racist p...            Fake\n",
      "2  expected increase prices fruits vegetables wel...            Real\n",
      "3  british museum announced opening doors public ...            Real\n",
      "4  new movie openheimer released openheimer chara...            Fake\n",
      "5  met gala making long time coming excited final...            Fake\n",
      "6  white house news lot lately wrong reasons pres...            Real\n",
      "7  exciting discovery made team researchers unive...            Fake\n",
      "8  agatha kristy published new book subject calle...            Fake\n"
     ]
    }
   ],
   "source": [
    "# Load the tokenizer\n",
    "with open('tokenizer.pickle', 'rb') as handle:\n",
    "    tokenizer = pickle.load(handle)\n",
    "\n",
    "# Load the saved model\n",
    "model = load_model('my_news_model.keras')\n",
    "\n",
    "# Load the new dataset\n",
    "gpt2_df = pd.read_csv('best_generated_texts.csv')\n",
    "\n",
    "# Preprocess the text data\n",
    "gpt2_df['Generated Text'] = gpt2_df['Generated Text'].apply(preprocess_text)\n",
    "\n",
    "# Tokenize the new text data\n",
    "new_sequences = tokenizer.texts_to_sequences(gpt2_df['Generated Text'])\n",
    "X_gpt2 = pad_sequences(new_sequences, maxlen=500)\n",
    "\n",
    "# Make predictions\n",
    "predictions = model.predict(X_gpt2)\n",
    "\n",
    "# Convert predictions to labels\n",
    "gpt2_df['predicted_label'] = ['Real' if pred > 0.5 else 'Fake' for pred in predictions]\n",
    "\n",
    "# Print the predictions\n",
    "print(gpt2_df[['Generated Text', 'predicted_label']])"
   ]
  },
  {
   "cell_type": "code",
   "execution_count": null,
   "id": "486b3e7f",
   "metadata": {},
   "outputs": [],
   "source": []
  }
 ],
 "metadata": {
  "kernelspec": {
   "display_name": "Python 3 (ipykernel)",
   "language": "python",
   "name": "python3"
  },
  "language_info": {
   "codemirror_mode": {
    "name": "ipython",
    "version": 3
   },
   "file_extension": ".py",
   "mimetype": "text/x-python",
   "name": "python",
   "nbconvert_exporter": "python",
   "pygments_lexer": "ipython3",
   "version": "3.11.3"
  }
 },
 "nbformat": 4,
 "nbformat_minor": 5
}
